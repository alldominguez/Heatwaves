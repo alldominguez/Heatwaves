{
  "nbformat": 4,
  "nbformat_minor": 0,
  "metadata": {
    "colab": {
      "provenance": [],
      "toc_visible": true,
      "authorship_tag": "ABX9TyMM92oIOshCM+ZvJSZ4vPT+",
      "include_colab_link": true
    },
    "kernelspec": {
      "name": "python3",
      "display_name": "Python 3"
    },
    "language_info": {
      "name": "python"
    }
  },
  "cells": [
    {
      "cell_type": "markdown",
      "metadata": {
        "id": "view-in-github",
        "colab_type": "text"
      },
      "source": [
        "<a href=\"https://colab.research.google.com/github/alldominguez/Heatwaves/blob/main/01_ISGlobal_sesion4_Exposoma.ipynb\" target=\"_parent\"><img src=\"https://colab.research.google.com/assets/colab-badge.svg\" alt=\"Open In Colab\"/></a>"
      ]
    },
    {
      "cell_type": "markdown",
      "source": [
        "# ¡Bienvenidos a la sesión práctica de estrategias para el análisis de datos en Exposoma!\n",
        "\n",
        "\\\n",
        "<img height=\"150\" src=\"https://raw.githubusercontent.com/IEEESBITBA/Curso-python/master/_assets/logo-oficial.png\">\n",
        "\n",
        "\\\n",
        "\\"
      ],
      "metadata": {
        "id": "9YB5CEtlIAXS"
      }
    },
    {
      "cell_type": "markdown",
      "source": [
        "# Sección nueva"
      ],
      "metadata": {
        "id": "B9YXt-H1IAZ0"
      }
    },
    {
      "cell_type": "code",
      "source": [],
      "metadata": {
        "id": "r7T8YnXeH2v4"
      },
      "execution_count": null,
      "outputs": []
    }
  ]
}